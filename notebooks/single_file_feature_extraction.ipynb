{
 "cells": [
  {
   "cell_type": "code",
   "execution_count": 2,
   "metadata": {},
   "outputs": [],
   "source": [
    "from dotenv import load_dotenv\n",
    "load_dotenv()\n",
    "import os\n",
    "import librosa\n",
    "import numpy as np\n",
    "import sys\n",
    "sys.path.append('../scripts')\n",
    "\n",
    "from chroma_features import extract_chroma_features\n",
    "from tonnetz_features import extract_tonnetz_features\n",
    "from mfcc_features import extract_mfcc_features\n",
    "from zero_crossing_rate import extract_zero_crossing_rate\n",
    "from temporal_features import extract_temporal_features\n",
    "from pitch_features import extract_pitch_features"
   ]
  },
  {
   "cell_type": "code",
   "execution_count": 3,
   "metadata": {},
   "outputs": [
    {
     "data": {
      "text/plain": [
       "'/Users/moki/University/Not University/MusicAI/notebooks'"
      ]
     },
     "execution_count": 3,
     "metadata": {},
     "output_type": "execute_result"
    }
   ],
   "source": [
    "pwd"
   ]
  },
  {
   "cell_type": "code",
   "execution_count": 4,
   "metadata": {},
   "outputs": [],
   "source": [
    "# Replace the path below with the path to a single MP3 file from your collection\n",
    "file_path = '/Users/moki/University/Not University/MusicAI/data/tracks/Gummihammer.mp3'"
   ]
  },
  {
   "cell_type": "code",
   "execution_count": 8,
   "metadata": {},
   "outputs": [
    {
     "name": "stderr",
     "output_type": "stream",
     "text": [
      "/var/folders/s7/hmg93jf14pvgq4bqmy72brsr0000gn/T/ipykernel_86752/1463797845.py:8: FutureWarning: Pass y=[[ 3.5537640e-14  8.9202036e-14  2.7186182e-13 ...  1.3615291e-05\n",
      "   1.5487800e-05  0.0000000e+00]\n",
      " [-1.4944916e-15  4.5096833e-16  1.5466174e-15 ... -1.5469835e-05\n",
      "  -1.7700393e-05  0.0000000e+00]], S=22050 as keyword args. From version 0.10 passing these as positional arguments will result in an error\n",
      "  rms = librosa.feature.rms(audio_data, sr)\n"
     ]
    },
    {
     "name": "stdout",
     "output_type": "stream",
     "text": [
      "chroma: (2, 12, 17547)\n",
      "tonnetz: (2, 6, 17547)\n",
      "mfcc: (2, 13, 17547)\n",
      "zcr: (2, 1, 17547)\n",
      "onset_strength_envelope: (2, 17547)\n",
      "tempo: (2, 1)\n",
      "pitch_values: (array([[0., 0., 0., ..., 0., 0., 0.],\n",
      "       [0., 0., 0., ..., 0., 0., 0.]], dtype=float32), array([[0., 0., 0., ..., 0., 0., 0.],\n",
      "       [0., 0., 0., ..., 0., 0., 0.]], dtype=float32), array([[1.7673626 , 0.3567086 , 0.20399925, ..., 0.7544432 , 0.70340943,\n",
      "        0.6402794 ],\n",
      "       [1.8592454 , 0.24477418, 0.15293294, ..., 0.73186266, 0.69198304,\n",
      "        0.70216984]], dtype=float32))\n",
      "local loudness: (2, 1, 17547)\n"
     ]
    }
   ],
   "source": [
    "\n",
    "audio_data, sr = librosa.load(file_path, mono=False)\n",
    "chroma = extract_chroma_features(audio_data, sr)\n",
    "tonnetz = extract_tonnetz_features(audio_data, sr)\n",
    "mfcc = extract_mfcc_features(audio_data, sr)\n",
    "zcr = extract_zero_crossing_rate(audio_data, sr)\n",
    "onset_env, tempo = extract_temporal_features(audio_data, sr)\n",
    "pitch_values = extract_pitch_features(audio_data, sr)\n",
    "rms = librosa.feature.rms(audio_data, sr)\n",
    "\n",
    "features = {\n",
    "    'chroma': chroma,\n",
    "    'tonnetz': tonnetz,\n",
    "    'mfcc': mfcc,\n",
    "    'zcr': zcr,\n",
    "    'onset_strength_envelope': onset_env,\n",
    "    'tempo': tempo,\n",
    "    'pitch_values': pitch_values,\n",
    "    'local loudness': rms\n",
    "}\n",
    "\n",
    "# Display the shapes of the extracted features\n",
    "for feature_name, feature_value in features.items():\n",
    "    if hasattr(feature_value, 'shape'):\n",
    "        print(f\"{feature_name}: {feature_value.shape}\")\n",
    "    else:\n",
    "        print(f\"{feature_name}: {feature_value}\")\n",
    "\n"
   ]
  },
  {
   "cell_type": "code",
   "execution_count": 9,
   "metadata": {},
   "outputs": [
    {
     "name": "stdout",
     "output_type": "stream",
     "text": [
      "Total size of feature data for one file: 2107056 bytes\n"
     ]
    }
   ],
   "source": [
    "\n",
    "total_size = sys.getsizeof(features)\n",
    "for feature_name, feature_value in features.items():\n",
    "    total_size += sys.getsizeof(feature_value)\n",
    "\n",
    "print(f\"Total size of feature data for one file: {total_size} bytes\")"
   ]
  },
  {
   "cell_type": "code",
   "execution_count": 10,
   "metadata": {},
   "outputs": [
    {
     "name": "stdout",
     "output_type": "stream",
     "text": [
      "chroma: (2, 12, 17547) (Size: 1684656 bytes)\n",
      "tonnetz: (2, 6, 17547) (Size: 144 bytes)\n",
      "mfcc: (2, 13, 17547) (Size: 144 bytes)\n",
      "zcr: (2, 1, 17547) (Size: 280896 bytes)\n",
      "onset_strength_envelope: (2, 17547) (Size: 128 bytes)\n",
      "tempo: (2, 1) (Size: 144 bytes)\n",
      "pitch_values: (array([[0., 0., 0., ..., 0., 0., 0.],\n",
      "       [0., 0., 0., ..., 0., 0., 0.]], dtype=float32), array([[0., 0., 0., ..., 0., 0., 0.],\n",
      "       [0., 0., 0., ..., 0., 0., 0.]], dtype=float32), array([[1.7673626 , 0.3567086 , 0.20399925, ..., 0.7544432 , 0.70340943,\n",
      "        0.6402794 ],\n",
      "       [1.8592454 , 0.24477418, 0.15293294, ..., 0.73186266, 0.69198304,\n",
      "        0.70216984]], dtype=float32))\n",
      "local loudness: (2, 1, 17547) (Size: 140520 bytes)\n",
      "\n",
      "Total size of feature data for one file: 2107056 bytes\n"
     ]
    }
   ],
   "source": [
    "\n",
    "# Display the sizes of the extracted features\n",
    "for feature_name, feature_value in features.items():\n",
    "    if hasattr(feature_value, 'shape'):\n",
    "        feature_size = sys.getsizeof(feature_value)\n",
    "        print(f\"{feature_name}: {feature_value.shape} (Size: {feature_size} bytes)\")\n",
    "    else:\n",
    "        print(f\"{feature_name}: {feature_value}\")\n",
    "\n",
    "# Compute the total size\n",
    "total_size = sys.getsizeof(features)\n",
    "for feature_name, feature_value in features.items():\n",
    "    total_size += sys.getsizeof(feature_value)\n",
    "\n",
    "print(f\"\\nTotal size of feature data for one file: {total_size} bytes\")"
   ]
  },
  {
   "cell_type": "code",
   "execution_count": null,
   "metadata": {},
   "outputs": [],
   "source": []
  }
 ],
 "metadata": {
  "kernelspec": {
   "display_name": "musicai",
   "language": "python",
   "name": "python3"
  },
  "language_info": {
   "codemirror_mode": {
    "name": "ipython",
    "version": 3
   },
   "file_extension": ".py",
   "mimetype": "text/x-python",
   "name": "python",
   "nbconvert_exporter": "python",
   "pygments_lexer": "ipython3",
   "version": "3.9.16"
  },
  "orig_nbformat": 4
 },
 "nbformat": 4,
 "nbformat_minor": 2
}
