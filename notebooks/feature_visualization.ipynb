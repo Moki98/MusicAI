{
 "cells": [
  {
   "cell_type": "code",
   "execution_count": null,
   "metadata": {},
   "outputs": [],
   "source": [
    "#feature distribution\n",
    "import matplotlib.pyplot as plt\n",
    "import seaborn as sns\n",
    "\n",
    "for key in feature_keys:\n",
    "    plt.figure(figsize=(10, 5))\n",
    "    plt.title(f'{key} Distribution')\n",
    "    sns.histplot([track[key].flatten() for track in feature_data], kde=True, bins=50)\n",
    "    plt.show()"
   ]
  },
  {
   "cell_type": "code",
   "execution_count": null,
   "metadata": {},
   "outputs": [],
   "source": [
    "#feature correlation\n",
    "import pandas as pd\n",
    "\n",
    "# Flatten the features and create a DataFrame\n",
    "X_df = pd.DataFrame(X, columns=[f'{key}_{i}' for key in feature_keys for i in range(len(X[0]))])\n",
    "\n",
    "# Compute the correlation matrix\n",
    "corr = X_df.corr()\n",
    "\n",
    "# Plot the heatmap\n",
    "plt.figure(figsize=(16, 16))\n",
    "sns.heatmap(corr, cmap='coolwarm', square=True, linewidths=0.1)\n",
    "plt.title('Feature Correlations')\n",
    "plt.show()"
   ]
  },
  {
   "cell_type": "code",
   "execution_count": null,
   "metadata": {},
   "outputs": [],
   "source": [
    "#Cumulative explained variance plot\n",
    "pca = PCA()\n",
    "X_pca_all = pca.fit(X_scaled)\n",
    "\n",
    "cumulative_explained_variance = np.cumsum(pca.explained_variance_ratio_)\n",
    "\n",
    "plt.figure(figsize=(10, 6))\n",
    "plt.plot(range(1, len(cumulative_explained_variance) + 1), cumulative_explained_variance, marker='o')\n",
    "plt.xlabel('Number of Components')\n",
    "plt.ylabel('Cumulative Explained Variance')\n",
    "plt.title('PCA - Cumulative Explained Variance')\n",
    "plt.grid()\n",
    "plt.show()"
   ]
  }
 ],
 "metadata": {
  "language_info": {
   "name": "python"
  },
  "orig_nbformat": 4
 },
 "nbformat": 4,
 "nbformat_minor": 2
}
